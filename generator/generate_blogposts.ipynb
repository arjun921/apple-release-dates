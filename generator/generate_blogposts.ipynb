{
 "cells": [
  {
   "cell_type": "code",
   "execution_count": 13,
   "id": "9aa004c9",
   "metadata": {},
   "outputs": [],
   "source": [
    "import pandas as pd\n",
    "from pathlib import Path\n",
    "import os\n",
    "import datetime"
   ]
  },
  {
   "cell_type": "code",
   "execution_count": 14,
   "id": "daa63da6",
   "metadata": {},
   "outputs": [
    {
     "data": {
      "text/html": [
       "<div>\n",
       "<style scoped>\n",
       "    .dataframe tbody tr th:only-of-type {\n",
       "        vertical-align: middle;\n",
       "    }\n",
       "\n",
       "    .dataframe tbody tr th {\n",
       "        vertical-align: top;\n",
       "    }\n",
       "\n",
       "    .dataframe thead th {\n",
       "        text-align: right;\n",
       "    }\n",
       "</style>\n",
       "<table border=\"1\" class=\"dataframe\">\n",
       "  <thead>\n",
       "    <tr style=\"text-align: right;\">\n",
       "      <th></th>\n",
       "      <th>name</th>\n",
       "      <th>revision</th>\n",
       "      <th>category</th>\n",
       "      <th>full_name</th>\n",
       "      <th>announce_date</th>\n",
       "      <th>first_release_date</th>\n",
       "      <th>source</th>\n",
       "      <th>description</th>\n",
       "      <th>page_content</th>\n",
       "    </tr>\n",
       "  </thead>\n",
       "  <tbody>\n",
       "    <tr>\n",
       "      <th>0</th>\n",
       "      <td>iPad</td>\n",
       "      <td>1st generation</td>\n",
       "      <td>iPad</td>\n",
       "      <td>iPad (1st generation)</td>\n",
       "      <td>2010-01-27</td>\n",
       "      <td>2010-04-03</td>\n",
       "      <td>https://en.wikipedia.org/wiki/IPad</td>\n",
       "      <td>Entry for iPad (1st generation)</td>\n",
       "      <td>Source: https://en.wikipedia.org/wiki/IPad</td>\n",
       "    </tr>\n",
       "    <tr>\n",
       "      <th>1</th>\n",
       "      <td>iPad</td>\n",
       "      <td>2nd generation</td>\n",
       "      <td>iPad</td>\n",
       "      <td>iPad (2nd generation)</td>\n",
       "      <td>2011-03-02</td>\n",
       "      <td>2011-03-11</td>\n",
       "      <td>https://en.wikipedia.org/wiki/IPad</td>\n",
       "      <td>Entry for iPad (2nd generation)</td>\n",
       "      <td>Source: https://en.wikipedia.org/wiki/IPad</td>\n",
       "    </tr>\n",
       "    <tr>\n",
       "      <th>2</th>\n",
       "      <td>iPad</td>\n",
       "      <td>3rd generation</td>\n",
       "      <td>iPad</td>\n",
       "      <td>iPad (3rd generation)</td>\n",
       "      <td>2012-03-07</td>\n",
       "      <td>2012-03-16</td>\n",
       "      <td>https://en.wikipedia.org/wiki/IPad</td>\n",
       "      <td>Entry for iPad (3rd generation)</td>\n",
       "      <td>Source: https://en.wikipedia.org/wiki/IPad</td>\n",
       "    </tr>\n",
       "    <tr>\n",
       "      <th>3</th>\n",
       "      <td>iPad</td>\n",
       "      <td>4th generation</td>\n",
       "      <td>iPad</td>\n",
       "      <td>iPad (4th generation)</td>\n",
       "      <td>2012-10-23</td>\n",
       "      <td>2012-11-02</td>\n",
       "      <td>https://en.wikipedia.org/wiki/IPad</td>\n",
       "      <td>Entry for iPad (4th generation)</td>\n",
       "      <td>Source: https://en.wikipedia.org/wiki/IPad</td>\n",
       "    </tr>\n",
       "    <tr>\n",
       "      <th>4</th>\n",
       "      <td>iPad</td>\n",
       "      <td>5th generation</td>\n",
       "      <td>iPad</td>\n",
       "      <td>iPad (5th generation)</td>\n",
       "      <td>2017-03-21</td>\n",
       "      <td>2017-03-24</td>\n",
       "      <td>https://en.wikipedia.org/wiki/IPad</td>\n",
       "      <td>Entry for iPad (5th generation)</td>\n",
       "      <td>Source: https://en.wikipedia.org/wiki/IPad</td>\n",
       "    </tr>\n",
       "  </tbody>\n",
       "</table>\n",
       "</div>"
      ],
      "text/plain": [
       "   name        revision category              full_name announce_date  \\\n",
       "0  iPad  1st generation     iPad  iPad (1st generation)    2010-01-27   \n",
       "1  iPad  2nd generation     iPad  iPad (2nd generation)    2011-03-02   \n",
       "2  iPad  3rd generation     iPad  iPad (3rd generation)    2012-03-07   \n",
       "3  iPad  4th generation     iPad  iPad (4th generation)    2012-10-23   \n",
       "4  iPad  5th generation     iPad  iPad (5th generation)    2017-03-21   \n",
       "\n",
       "  first_release_date                              source  \\\n",
       "0         2010-04-03  https://en.wikipedia.org/wiki/IPad   \n",
       "1         2011-03-11  https://en.wikipedia.org/wiki/IPad   \n",
       "2         2012-03-16  https://en.wikipedia.org/wiki/IPad   \n",
       "3         2012-11-02  https://en.wikipedia.org/wiki/IPad   \n",
       "4         2017-03-24  https://en.wikipedia.org/wiki/IPad   \n",
       "\n",
       "                       description                                page_content  \n",
       "0  Entry for iPad (1st generation)  Source: https://en.wikipedia.org/wiki/IPad  \n",
       "1  Entry for iPad (2nd generation)  Source: https://en.wikipedia.org/wiki/IPad  \n",
       "2  Entry for iPad (3rd generation)  Source: https://en.wikipedia.org/wiki/IPad  \n",
       "3  Entry for iPad (4th generation)  Source: https://en.wikipedia.org/wiki/IPad  \n",
       "4  Entry for iPad (5th generation)  Source: https://en.wikipedia.org/wiki/IPad  "
      ]
     },
     "execution_count": 14,
     "metadata": {},
     "output_type": "execute_result"
    }
   ],
   "source": [
    "sheet_id = \"1vQJ3psvi0Kl6_tecq3SV_mCMuQPvnXxnQ2MLN2uc128\"\n",
    "sheet_name = \"Sheet1\"\n",
    "url = f\"https://docs.google.com/spreadsheets/d/{sheet_id}/gviz/tq?tqx=out:csv&sheet={sheet_name}\"\n",
    "\n",
    "df = pd.read_csv(url)\n",
    "df['announce_date'] = pd.to_datetime(df['announce_date'])\n",
    "df['first_release_date'] = pd.to_datetime(df['first_release_date'])\n",
    "df.head()"
   ]
  },
  {
   "cell_type": "code",
   "execution_count": 15,
   "id": "acd7fe3f",
   "metadata": {},
   "outputs": [],
   "source": [
    "def get_page_content(row):\n",
    "#     print(type(row.first_release_date))\n",
    "    categories = [row.category]\n",
    "    tags = [row.name, str(row.first_release_date.year)]\n",
    "    \n",
    "    s = f\"\"\"+++\n",
    "ShowToc = false\n",
    "categories = {categories}\n",
    "date = {str(row.first_release_date)}\n",
    "description = \"{row.description}\"\n",
    "title = \"{row.full_name}\"\n",
    "tags = {tags}\n",
    "\n",
    "+++\n",
    "\n",
    "{row.page_content}\n",
    "\n",
    "Feeling lost?\n",
    "\n",
    "You might want to checkout these links:\n",
    "- Products: https://applereleasedate.com/categories/\n",
    "- Sub-products with Year filter: https://applereleasedate.com/tags/\n",
    "- Timeline: https://applereleasedate.com/archives/\n",
    "\n",
    "We don't post content about the actual product. \n",
    "\n",
    "\n",
    "\n",
    "This page is just meant to be a placeholder for blogging system to pickup dated entries :)\n",
    "\n",
    "\n",
    "\"\"\"\n",
    "    return s"
   ]
  },
  {
   "cell_type": "code",
   "execution_count": 16,
   "id": "703a6b15",
   "metadata": {},
   "outputs": [],
   "source": [
    "def update_posts():\n",
    "    export_root = Path('/Users/arjun921/working_directory/apple-release-dates/content/posts')\n",
    "    commit_message = f\"Autogenerated commit message @ {str(datetime.datetime.now())}:\\n\\n\"\n",
    "    for row in df.itertuples():\n",
    "        print('.',end=' ')\n",
    "        folder_path = export_root / Path(row.category) \n",
    "        post_path = folder_path / Path(f'{row.full_name}.md')\n",
    "        os.makedirs(folder_path, exist_ok=True)\n",
    "        log = f'Generated/Updated post for: {row.full_name}'\n",
    "        commit_message += f'{log}\\n'\n",
    "        fopen = open(post_path,'w')\n",
    "        page_content = get_page_content(row)\n",
    "        fopen.write(page_content)\n",
    "        fopen.close()\n",
    "    print('')\n",
    "    os.system(f'cd {folder_path.parent.parent.parent} && git add . && git commit -m \"{commit_message}\" && git push')"
   ]
  },
  {
   "cell_type": "code",
   "execution_count": 17,
   "id": "fbe869dd",
   "metadata": {
    "scrolled": false
   },
   "outputs": [
    {
     "name": "stdout",
     "output_type": "stream",
     "text": [
      ". . . . . . . . . . . . . . . . . . . . . . . . . . . . . . . . . . . . \n",
      "[master f1d3871] Autogenerated commit message @ 2022-01-22 22:59:43.360565:\n",
      " 1 file changed, 1 insertion(+), 1 deletion(-)\n"
     ]
    },
    {
     "name": "stderr",
     "output_type": "stream",
     "text": [
      "To https://github.com/arjun921/apple-release-dates.git\n",
      "   1ff1d8e..f1d3871  master -> master\n"
     ]
    }
   ],
   "source": [
    "update_posts()"
   ]
  },
  {
   "cell_type": "code",
   "execution_count": null,
   "id": "3d5b7aac",
   "metadata": {},
   "outputs": [],
   "source": []
  }
 ],
 "metadata": {
  "kernelspec": {
   "display_name": "Python 3 (ipykernel)",
   "language": "python",
   "name": "python3"
  },
  "language_info": {
   "codemirror_mode": {
    "name": "ipython",
    "version": 3
   },
   "file_extension": ".py",
   "mimetype": "text/x-python",
   "name": "python",
   "nbconvert_exporter": "python",
   "pygments_lexer": "ipython3",
   "version": "3.9.9"
  }
 },
 "nbformat": 4,
 "nbformat_minor": 5
}
